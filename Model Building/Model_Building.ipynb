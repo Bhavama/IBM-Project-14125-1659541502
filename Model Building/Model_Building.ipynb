{
  "nbformat": 4,
  "nbformat_minor": 0,
  "metadata": {
    "colab": {
      "provenance": []
    },
    "kernelspec": {
      "name": "python3",
      "display_name": "Python 3"
    },
    "language_info": {
      "name": "python"
    }
  },
  "cells": [
    {
      "cell_type": "markdown",
      "source": [
        "Model Building"
      ],
      "metadata": {
        "id": "oOFF5SPX-_tE"
      }
    },
    {
      "cell_type": "markdown",
      "source": [
        "1)Importing The Model Building Libraries"
      ],
      "metadata": {
        "id": "d3jSK2GH_IyW"
      }
    },
    {
      "cell_type": "code",
      "source": [
        "from tensorflow.keras.models import Sequential\n",
        "from tensorflow.keras.layers import Convolution2D, MaxPooling2D, Flatten, Dense"
      ],
      "metadata": {
        "id": "1b4UV7Mj_cwe"
      },
      "execution_count": 3,
      "outputs": []
    },
    {
      "cell_type": "markdown",
      "source": [
        "2)Initializing The Model"
      ],
      "metadata": {
        "id": "B3QxiRKD_d6U"
      }
    },
    {
      "cell_type": "code",
      "source": [
        "model = Sequential()"
      ],
      "metadata": {
        "id": "4BdhIL7T_s49"
      },
      "execution_count": 4,
      "outputs": []
    },
    {
      "cell_type": "markdown",
      "source": [
        "3)Adding CNN Layers"
      ],
      "metadata": {
        "id": "wjfIrTSV_uuH"
      }
    },
    {
      "cell_type": "code",
      "source": [
        "model.add(Convolution2D(32,(3,3),activation='relu',input_shape=(64,64,3)))\n",
        "model.add(MaxPooling2D(pool_size=(2,2)))\n",
        "model.add(Flatten())"
      ],
      "metadata": {
        "id": "k7mprdso_tqv"
      },
      "execution_count": 5,
      "outputs": []
    },
    {
      "cell_type": "markdown",
      "source": [
        "4)Adding Dense Layer"
      ],
      "metadata": {
        "id": "eM49G4Mu_2oJ"
      }
    },
    {
      "cell_type": "code",
      "source": [
        "model.add(Dense(300,activation='relu')) \n",
        "model.add(Dense(150,activation='relu')) \n",
        "model.add(Dense(8,activation='softmax'))"
      ],
      "metadata": {
        "id": "gYbLmLPf_7If"
      },
      "execution_count": 6,
      "outputs": []
    },
    {
      "cell_type": "markdown",
      "source": [
        "5)Configure the learning Process"
      ],
      "metadata": {
        "id": "2K1BZWGCAAeJ"
      }
    },
    {
      "cell_type": "code",
      "source": [
        "model.compile(optimizer='adam',loss='categorical_crossentropy',metrics=['accuracy'])"
      ],
      "metadata": {
        "id": "QWvZGYIgAE7i"
      },
      "execution_count": 7,
      "outputs": []
    },
    {
      "cell_type": "markdown",
      "source": [
        "6)Train the model"
      ],
      "metadata": {
        "id": "lU82o2dsAKtr"
      }
    },
    {
      "cell_type": "code",
      "source": [
        "model.fit_generator(xtrain,\n",
        "                    steps_per_epoch=len(xtrain),\n",
        "                    epochs=10,\n",
        "                    validation_data=xtest,\n",
        "                    validation_steps=len(xtest))"
      ],
      "metadata": {
        "id": "YDK0bCFANL_1"
      },
      "execution_count": null,
      "outputs": []
    },
    {
      "cell_type": "markdown",
      "source": [
        "Tuning the Model"
      ],
      "metadata": {
        "id": "8-1U2-PxAXIV"
      }
    },
    {
      "cell_type": "code",
      "source": [
        "from tensorflow.keras.callbacks import EarlyStopping, ReduceLROnPlateau\n",
        "early_stop = EarlyStopping(monitor='val_accuracy',\n",
        "                           patience=5)\n",
        "\n",
        "lr = ReduceLROnPlateau(monitor='val_accuracy', \n",
        "                       factor=0.5, \n",
        "                       patience=5,\n",
        "                       min_lr=0.00001)\n",
        "\n",
        "callbacks = [early_stop,lr]\n",
        "# Training model\n",
        "\n",
        "model.fit_generator(xtrain,\n",
        "                    steps_per_epoch=len(xtrain),\n",
        "                    epochs=100,\n",
        "                    callbacks=callbacks,\n",
        "                    validation_data=xtest,\n",
        "                    validation_steps=len(xtest),)"
      ],
      "metadata": {
        "id": "1djrssXoNNyy"
      },
      "execution_count": null,
      "outputs": []
    },
    {
      "cell_type": "markdown",
      "source": [
        "7)Save The Model"
      ],
      "metadata": {
        "id": "45Lcf3JvAi6y"
      }
    },
    {
      "cell_type": "code",
      "source": [
        "model.save('nutrition.h5')"
      ],
      "metadata": {
        "id": "MrXxgMblArhY"
      },
      "execution_count": 8,
      "outputs": []
    },
    {
      "cell_type": "markdown",
      "source": [
        "8)Test The Model"
      ],
      "metadata": {
        "id": "KIPnr8_SAuWg"
      }
    },
    {
      "cell_type": "code",
      "source": [
        "import numpy as np\n",
        "from tensorflow.keras.preprocessing import image"
      ],
      "metadata": {
        "id": "kGJp-E9LAx-i"
      },
      "execution_count": 9,
      "outputs": []
    },
    {
      "cell_type": "code",
      "source": [
        "foods = ['Apple','Banana','Orange','Pineapple','Watermelon','Banana','Pineapple','Apple']"
      ],
      "metadata": {
        "id": "jfkynjPUBBnW"
      },
      "execution_count": 53,
      "outputs": []
    },
    {
      "cell_type": "markdown",
      "source": [
        "\n",
        "Testing 1"
      ],
      "metadata": {
        "id": "RbiEP27aA7Uj"
      }
    },
    {
      "cell_type": "code",
      "source": [
        "img = image.load_img('/content/Dataset/TEST_SET/APPLES/151_100.jpg', target_size = (64,64))\n",
        "img"
      ],
      "metadata": {
        "colab": {
          "base_uri": "https://localhost:8080/",
          "height": 81
        },
        "id": "wHO4m4BABF5B",
        "outputId": "e8383779-f83e-4e49-8b4b-b54d15af7662"
      },
      "execution_count": 60,
      "outputs": [
        {
          "output_type": "execute_result",
          "data": {
            "text/plain": [
              "<PIL.Image.Image image mode=RGB size=64x64 at 0x7F39D63937D0>"
            ],
            "image/png": "[encoded data removed]"
          },
          "metadata": {},
          "execution_count": 60
        }
      ]
    },
    {
      "cell_type": "code",
      "source": [
        "y = image.img_to_array(img) \n",
        "y = np.expand_dims(y,axis=0) \n",
        "pred = np.argmax(model.predict(y)) \n",
        "print(pred, model.predict(y))\n",
        "print(foods[pred])"
      ],
      "metadata": {
        "id": "F4LLjZZgN_Z8"
      },
      "execution_count": null,
      "outputs": []
    },
    {
      "cell_type": "markdown",
      "source": [
        "Testing 2"
      ],
      "metadata": {
        "id": "TUh_l8rPKiVr"
      }
    },
    {
      "cell_type": "code",
      "source": [
        "img = image.load_img('/content/Nutrition Image Analysis using CNN and Rapid API/Dataset/TEST_SET/BANANA/0WSGFT9BFDSM.jpg', target_size = (64,64))\n",
        "img"
      ],
      "metadata": {
        "colab": {
          "base_uri": "https://localhost:8080/",
          "height": 81
        },
        "id": "2rgPLI6DKjco",
        "outputId": "24b9e1b5-eafd-46ba-ecd2-4a16cf257096"
      },
      "execution_count": 55,
      "outputs": [
        {
          "output_type": "execute_result",
          "data": {
            "text/plain": [
              "<PIL.JpegImagePlugin.JpegImageFile image mode=RGB size=64x64 at 0x7F39D62FF690>"
            ],
            "image/png": "[encoded data removed]"
          },
          "metadata": {},
          "execution_count": 55
        }
      ]
    },
    {
      "cell_type": "code",
      "source": [
        "y = image.img_to_array(img) \n",
        "y = np.expand_dims(y,axis=0) \n",
        "pred = np.argmax(model.predict(y)) \n",
        "print(pred, model.predict(y))\n",
        "print(foods[pred])"
      ],
      "metadata": {
        "id": "WftvZIqNOCv1"
      },
      "execution_count": null,
      "outputs": []
    },
    {
      "cell_type": "markdown",
      "source": [
        "Testing 3"
      ],
      "metadata": {
        "id": "tiHfsN41K09p"
      }
    },
    {
      "cell_type": "code",
      "source": [
        "img = image.load_img('/content/Nutrition Image Analysis using CNN and Rapid API/Dataset/TEST_SET/ORANGE/n07749192_1090.jpg', target_size = (64,64))\n",
        "img"
      ],
      "metadata": {
        "colab": {
          "base_uri": "https://localhost:8080/",
          "height": 81
        },
        "id": "n5qkqnnyOD9l",
        "outputId": "25dd6677-02fe-401e-8f50-0b92afe11e79"
      },
      "execution_count": 65,
      "outputs": [
        {
          "output_type": "execute_result",
          "data": {
            "text/plain": [
              "<PIL.Image.Image image mode=RGB size=64x64 at 0x7F39D64A4910>"
            ],
            "image/png": "[encoded data removed]"
          },
          "metadata": {},
          "execution_count": 65
        }
      ]
    },
    {
      "cell_type": "code",
      "source": [
        "x = image.img_to_array(img) \n",
        "x = np.expand_dims(x,axis=0) \n",
        "pred = np.argmax(model.predict(x)) \n",
        "print(pred, model.predict(x))\n",
        "print(foods[pred])"
      ],
      "metadata": {
        "id": "LXWJkzQhK5Qa"
      },
      "execution_count": null,
      "outputs": []
    },
    {
      "cell_type": "markdown",
      "source": [
        "Testing 4"
      ],
      "metadata": {
        "id": "AckDnhxGOFIS"
      }
    },
    {
      "cell_type": "code",
      "source": [
        "img = image.load_img('/content/Nutrition Image Analysis using CNN and Rapid API/Dataset/TEST_SET/PINEAPPLE/PineApple (2).jpg', target_size = (64,64))\n",
        "img"
      ],
      "metadata": {
        "colab": {
          "base_uri": "https://localhost:8080/",
          "height": 81
        },
        "id": "ci2TGL8iQE8n",
        "outputId": "cd26ac22-298c-48ca-a6f2-0648e06a9f92"
      },
      "execution_count": 68,
      "outputs": [
        {
          "output_type": "execute_result",
          "data": {
            "text/plain": [
              "<PIL.Image.Image image mode=RGB size=64x64 at 0x7F39D6CCC290>"
            ],
            "image/png": "[encoded data removed]"
          },
          "metadata": {},
          "execution_count": 68
        }
      ]
    },
    {
      "cell_type": "code",
      "source": [
        "y = image.img_to_array(img) \n",
        "y = np.expand_dims(y,axis=0) \n",
        "pred = np.argmax(model.predict(y)) \n",
        "print(pred, model.predict(y))\n",
        "print(foods[pred])"
      ],
      "metadata": {
        "id": "WUSs51WfOIfq"
      },
      "execution_count": null,
      "outputs": []
    },
    {
      "cell_type": "markdown",
      "source": [
        "Testing 5"
      ],
      "metadata": {
        "id": "RKf0A50aOJLc"
      }
    },
    {
      "cell_type": "code",
      "source": [
        "img = image.load_img('/content/Nutrition Image Analysis using CNN and Rapid API/Dataset/TEST_SET/WATERMELON/Watermelon-IMG_20221109_162043.jpg', target_size = (64,64))\n",
        "img"
      ],
      "metadata": {
        "colab": {
          "base_uri": "https://localhost:8080/",
          "height": 81
        },
        "id": "u-0OXkIoONZJ",
        "outputId": "95177027-8527-4dc1-a1be-bd4654205f3c"
      },
      "execution_count": 67,
      "outputs": [
        {
          "output_type": "execute_result",
          "data": {
            "text/plain": [
              "<PIL.Image.Image image mode=RGB size=64x64 at 0x7F39D63B4290>"
            ],
            "image/png": "[encoded data removed]"
          },
          "metadata": {},
          "execution_count": 67
        }
      ]
    },
    {
      "cell_type": "code",
      "source": [
        "y = image.img_to_array(img) \n",
        "y = np.expand_dims(y,axis=0) \n",
        "pred = np.argmax(model.predict(y)) \n",
        "print(pred, model.predict(y))\n",
        "print(foods[pred])"
      ],
      "metadata": {
        "id": "Nobe135DON44"
      },
      "execution_count": null,
      "outputs": []
    }
  ]
}